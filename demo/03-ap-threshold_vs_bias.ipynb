{
 "cells": [
  {
   "cell_type": "code",
   "execution_count": null,
   "id": "d47fcf74-905a-4833-bd7b-977c7c6f72f8",
   "metadata": {},
   "outputs": [],
   "source": [
    "%load_ext autoreload\n",
    "%autoreload 2"
   ]
  },
  {
   "cell_type": "code",
   "execution_count": null,
   "id": "67041916-3962-4ed5-b048-fba99fdb821f",
   "metadata": {},
   "outputs": [],
   "source": [
    "import numpy as np\n",
    "import matplotlib.pyplot as plt\n",
    "from matplotlib.lines import Line2D\n",
    "from matplotlib.backends.backend_pdf import PdfPages\n",
    "import os\n",
    "import glob\n",
    "import itertools\n",
    "import pandas as pd\n",
    "\n",
    "from bn3d.analysis import get_results_df, get_thresholds_df\n",
    "from bn3d.plots._threshold import detailed_plot, update_plot, plot_crossing_collapse, plot_combined_threshold_vs_bias, xyz_sector_plot\n",
    "from bn3d.plots._hashing_bound import get_hashing_bound"
   ]
  },
  {
   "cell_type": "markdown",
   "id": "54871a2b-af6f-474a-9fd5-94bbb4b2ae91",
   "metadata": {},
   "source": [
    "# Load results"
   ]
  },
  {
   "cell_type": "code",
   "execution_count": null,
   "id": "d28f3d60-7a9c-4b6d-b1e0-c0ab03ba25bd",
   "metadata": {},
   "outputs": [],
   "source": [
    "dir_path = os.getcwd()\n",
    "\n",
    "experiments = [\"det_rhombic_bposd_xzzx_xbias\", \"det_rhombic_bposd_undef_xbias\", \"det_unrot_bposd_xzzx_zbias\", \"det_unrot_bposd_undef_zbias\"]\n",
    "# experiments = [\"det_unrot_bposd_xzzx_zbias\", \"det_rot_bposd_undef_zbias\"]\n",
    "# experiments = ['rot_infzopt_xzzx_zbias2']\n",
    "\n",
    "input_dir, output_dir, list_jobs = {}, {}, {}\n",
    "for exp_name in experiments:\n",
    "    input_dir[exp_name] = os.path.join(dir_path, f\"../results/eric/threshold/{exp_name}/inputs\")\n",
    "    output_dir[exp_name] = os.path.join(dir_path, f\"../results/eric/threshold/{exp_name}/results\")\n",
    "    list_jobs[exp_name] = list(map(lambda x: os.path.basename(x).split('.json')[0], os.listdir(input_dir[exp_name])))"
   ]
  },
  {
   "cell_type": "code",
   "execution_count": null,
   "id": "cc5ea56f-c265-4f4c-bf14-1a2e9cd42beb",
   "metadata": {},
   "outputs": [],
   "source": [
    "results = {exp_name: get_results_df(list_jobs[exp_name], output_dir[exp_name], input_dir[exp_name]) for exp_name in experiments}\n",
    "\n",
    "for exp_name in experiments:\n",
    "    # Remove 2x2x2\n",
    "    results[exp_name].drop(results[exp_name][results[exp_name]['size'] == (2,2,2)].index, inplace=True)\n",
    "    # Sort by probability\n",
    "    results[exp_name].sort_values(\"probability\", inplace=True)"
   ]
  },
  {
   "cell_type": "code",
   "execution_count": null,
   "id": "870bb88e-3422-4b97-b9f7-775cffbd055a",
   "metadata": {},
   "outputs": [],
   "source": [
    "# np.sort(results['rot_infzopt_xzzx_zbias2']['n_trials'])"
   ]
  },
  {
   "cell_type": "markdown",
   "id": "d613f10f-71bb-441e-8e62-c47eced6fac0",
   "metadata": {},
   "source": [
    "# Analyze results"
   ]
  },
  {
   "cell_type": "markdown",
   "id": "7456500b-b87b-40ce-a66b-b89446e027d4",
   "metadata": {},
   "source": [
    "### Limit probability range manually"
   ]
  },
  {
   "cell_type": "code",
   "execution_count": null,
   "id": "8d320ce5-3e1a-4e73-b84e-69eb16a91683",
   "metadata": {},
   "outputs": [],
   "source": [
    "exp_name = \"det_rhombic_bposd_undef_xbias\"\n",
    "proba_range = {'Pauli X0.9524Y0.0238Z0.0238': [0, 0.26]}\n",
    "\n",
    "if exp_name in results.keys():\n",
    "    for error_model, (lower, upper) in proba_range.items():\n",
    "        results[exp_name].drop(results[exp_name][(results[exp_name]['error_model'] == error_model) &\n",
    "                               ((results[exp_name]['probability'] > upper) |\n",
    "                               (results[exp_name]['probability'] < lower))].index,\n",
    "                               inplace=True)"
   ]
  },
  {
   "cell_type": "markdown",
   "id": "db385e0d-5090-49b2-8f27-88082ff44dae",
   "metadata": {},
   "source": [
    "### Get thresholds"
   ]
  },
  {
   "cell_type": "code",
   "execution_count": null,
   "id": "7dead101-d3b0-4bb4-965c-2ba7c4ffa675",
   "metadata": {},
   "outputs": [],
   "source": [
    "thresholds_df, trunc_results_df, params_bs_list = {}, {}, {}\n",
    "\n",
    "for exp_name in experiments:\n",
    "    print(exp_name)\n",
    "    thresholds_df[exp_name], trunc_results_df[exp_name], params_bs_list[exp_name] = get_thresholds_df(results[exp_name], \n",
    "                                                                                                      ftol_est=1e-3, \n",
    "                                                                                                      ftol_std=1e-3, \n",
    "                                                                                                      maxfev=10000)"
   ]
  },
  {
   "cell_type": "markdown",
   "id": "5f44ea12-a552-445b-b491-e5fd0cca6048",
   "metadata": {},
   "source": [
    "## Sector plots"
   ]
  },
  {
   "cell_type": "code",
   "execution_count": null,
   "id": "887f993c-ab02-49a3-9037-fd90ec7bb392",
   "metadata": {},
   "outputs": [],
   "source": [
    "exp_index = 0\n",
    "eta_key = 'eta_x'\n",
    "yscale = 'log'\n",
    "save = True\n",
    "\n",
    "exp_name = experiments[exp_index]\n",
    "title = exp_name.replace(\"_\", \"-\")\n",
    "\n",
    "if not os.path.exists(f\"../results/eric/images/{title}/\"):\n",
    "    os.makedirs(f\"../results/eric/images/{title}/\")\n",
    "    \n",
    "error_models = np.sort(np.unique(results[exp_name][\"error_model\"]))\n",
    "if eta_key == 'eta_z':\n",
    "    error_models = np.flip(error_models)\n",
    "print(\"Error models\", error_models)\n",
    "    \n",
    "for i in range(len(error_models)):\n",
    "    error_model = error_models[i]\n",
    "    curr_results = results[exp_name][(results[exp_name]['error_model'] == error_model)]\n",
    "    \n",
    "    xlim = (np.min(curr_results[\"probability\"]), np.max(curr_results[\"probability\"]))\n",
    "#     xlim = (0., 0.5)\n",
    "                    \n",
    "    detailed_plot(plt, curr_results, error_model, thresholds_df=thresholds_df[exp_name], x_limits=[xlim, xlim, xlim],\n",
    "                  yscale=yscale, eta_key=eta_key, min_y_axis=1e-6)\n",
    "\n",
    "# Saving\n",
    "if save:\n",
    "    with PdfPages(f\"../results/eric/images/{title}/sectors-{title}-{yscale}.pdf\") as pdf:\n",
    "        for fig in range(1, plt.figure().number):\n",
    "            pdf.savefig(fig)"
   ]
  },
  {
   "cell_type": "markdown",
   "id": "c788d522-20c7-462a-9b8c-838a5ad1e527",
   "metadata": {},
   "source": [
    "## XYZ sectors plot"
   ]
  },
  {
   "cell_type": "code",
   "execution_count": null,
   "id": "6ceac54f-9732-4dd8-87f8-69ff2320ec4e",
   "metadata": {},
   "outputs": [],
   "source": [
    "exp_index = 0\n",
    "eta_key = 'eta_z'\n",
    "yscale = 'linear'\n",
    "save = False\n",
    "\n",
    "exp_name = experiments[exp_index]\n",
    "title = exp_name.replace(\"_\", \"-\")\n",
    " \n",
    "if 'rot' or 'lay' in title:\n",
    "    if not os.path.exists(f\"../results/eric/images/{title}/\"):\n",
    "        os.makedirs(f\"../results/eric/images/{title}/\")\n",
    "\n",
    "    error_models = np.unique(results[exp_name]['error_model'])\n",
    "    print(\"Error models\", error_models)\n",
    "\n",
    "    for i in range(len(error_models)):\n",
    "        error_model = error_models[i]\n",
    "        curr_results = results[exp_name][(results[exp_name]['error_model'] == error_model)]\n",
    "\n",
    "        xlim = (np.min(curr_results[\"probability\"]), np.max(curr_results[\"probability\"]))\n",
    "    #     xlim = (0, 0.5)\n",
    "\n",
    "        xyz_sector_plot(plt, curr_results, error_model, thresholds_df=thresholds_df[exp_name], \n",
    "                        x_limits=[xlim, xlim, xlim, xlim], eta_key=eta_key,\n",
    "                        yscale=yscale)\n",
    "\n",
    "    # Saving\n",
    "    if save:\n",
    "        with PdfPages(f\"../results/eric/images/{title}/xyz-sectors-{title}-{yscale}.pdf\") as pdf:\n",
    "            for fig in range(1, plt.figure().number):\n",
    "                pdf.savefig(fig)"
   ]
  },
  {
   "cell_type": "markdown",
   "id": "10cca4b5-be9f-45bb-9bc5-1ea951ef695c",
   "metadata": {},
   "source": [
    "## Unique plot"
   ]
  },
  {
   "cell_type": "code",
   "execution_count": null,
   "id": "9e18914b-d726-4bb1-9c8f-235b312b4e78",
   "metadata": {},
   "outputs": [],
   "source": [
    "exp_index = 0\n",
    "eta_key = 'eta_z'\n",
    "yscale = 'linear'\n",
    "save = True\n",
    "\n",
    "exp_name = experiments[exp_index]\n",
    "title = exp_name.replace(\"_\", \"-\")\n",
    " \n",
    "if 'rot' or 'lay' in title:\n",
    "    if not os.path.exists(f\"../results/eric/images/{title}/\"):\n",
    "        os.makedirs(f\"../results/eric/images/{title}/\")\n",
    "\n",
    "    error_models = np.unique(results[exp_name]['error_model'])\n",
    "    print(\"Error models\", error_models)\n",
    "\n",
    "    for i in range(len(error_models)):\n",
    "        error_model = error_models[i]\n",
    "        curr_results = results[exp_name][(results[exp_name]['error_model'] == error_model)]\n",
    "\n",
    "        xlim = (np.min(curr_results[\"probability\"]), np.max(curr_results[\"probability\"]))\n",
    "        xlim = (0., 0.5)\n",
    "        ylim = (0., 0.55)\n",
    "\n",
    "        update_plot(plt, curr_results, error_model,\n",
    "                    xlim=xlim, ylim=ylim, eta_key=eta_key,\n",
    "                    yscale=yscale)\n",
    "\n",
    "    # Saving\n",
    "    if save:\n",
    "        with PdfPages(f\"../results/eric/images/{title}/simple-{title}-{yscale}.pdf\") as pdf:\n",
    "            for fig in range(1, plt.figure().number):\n",
    "                pdf.savefig(fig)"
   ]
  },
  {
   "cell_type": "markdown",
   "id": "23057d83-a224-4fa3-8638-d77414a2055c",
   "metadata": {},
   "source": [
    "## Plot threshold vs bias"
   ]
  },
  {
   "cell_type": "markdown",
   "id": "7abd71ae-440a-4984-a99b-3ec8f26c7887",
   "metadata": {},
   "source": [
    "### Add infinite bias row for deformed models with 50% threshold"
   ]
  },
  {
   "cell_type": "code",
   "execution_count": null,
   "id": "f13adc25-78d3-4966-9176-9643376fe826",
   "metadata": {},
   "outputs": [],
   "source": [
    "row_inf_bias = {'error_model': 'Deformed XZZX Pauli X0.0000Y0.0000Z1.0000',\n",
    "                'noise_direction': (0, 0, 1),\n",
    "                'r_x': 0, 'r_y': 0, 'r_z': 1,\n",
    "                'h': 0., 'v': 0.,\n",
    "                'eta_x': 0, 'eta_y': 0, 'eta_z': np.inf,\n",
    "                'p_th_sd': 0.,\n",
    "                'p_th_nearest': 0.5,\n",
    "                'p_left': 0.5,\n",
    "                'p_right': 0.5,\n",
    "                'p_th_fss': 0.5,\n",
    "                'p_th_fss_left': 0.5,\n",
    "                'p_th_fss_right': 0.5,\n",
    "                'p_th_fss_se': 0.,\n",
    "                'fss_params': (0.5,0,0,0,0)}\n",
    "# thresholds_df['det_rot_bposd_xzzx_zbias'] = thresholds_df['det_rot_bposd_xzzx_zbias'].append(row_inf_bias, ignore_index=True)\n",
    "thresholds_df['det_unrot_bposd_xzzx_zbias'] = thresholds_df['det_unrot_bposd_xzzx_zbias'].append(row_inf_bias, ignore_index=True)"
   ]
  },
  {
   "cell_type": "markdown",
   "id": "19d77fe6-3546-488f-b8b9-3d5d844d6966",
   "metadata": {},
   "source": [
    "### Remove unwanted bias ratios"
   ]
  },
  {
   "cell_type": "code",
   "execution_count": null,
   "id": "7ff325ba-3364-4de6-b7d2-b7bb320ce44b",
   "metadata": {},
   "outputs": [],
   "source": [
    "# Bias 1000\n",
    "thresholds_df['det_unrot_bposd_xzzx_zbias'].drop(thresholds_df['det_unrot_bposd_xzzx_zbias'][np.isclose(thresholds_df['det_unrot_bposd_xzzx_zbias']['eta_z'], 1000)].index, inplace=True)"
   ]
  },
  {
   "cell_type": "markdown",
   "id": "9461429f-4b52-45f7-84b4-22ce22e1e2cd",
   "metadata": {},
   "source": [
    "### Get data from XZZX paper"
   ]
  },
  {
   "cell_type": "code",
   "execution_count": null,
   "id": "3c94eb7c-445f-4964-9696-253dfbbc7c88",
   "metadata": {},
   "outputs": [],
   "source": [
    "csv_file_xzzx = \"../data/xzzx/xzzx_data.csv\"\n",
    "csv_file_css = \"../data/xzzx/css_data.csv\"\n",
    "\n",
    "xzzx_data = pd.read_csv(csv_file_xzzx)\n",
    "css_data = pd.read_csv(csv_file_css)"
   ]
  },
  {
   "cell_type": "code",
   "execution_count": null,
   "id": "9c26d946-5224-4e6b-835b-3e30ba843840",
   "metadata": {},
   "outputs": [],
   "source": [
    "xzzx_data.iloc[-1, xzzx_data.columns.get_loc('bias')] = np.inf\n",
    "css_data.iloc[-1, css_data.columns.get_loc('bias')] = np.inf"
   ]
  },
  {
   "cell_type": "code",
   "execution_count": null,
   "id": "427ed4a5-4154-49ef-83fd-6bf97f570f08",
   "metadata": {},
   "outputs": [],
   "source": [
    "thresholds_df['2d_xzzx'] = pd.DataFrame({'eta_z': xzzx_data['bias'], \n",
    "                                         'p_th_fss': xzzx_data['threshold'],\n",
    "                                         'p_th_fss_left': xzzx_data['threshold'] - xzzx_data['threshold_error'],\n",
    "                                         'p_th_fss_right': xzzx_data['threshold'] + xzzx_data['threshold_error']})\n",
    "\n",
    "# thresholds_df['2d_css'] = pd.DataFrame({'eta_z': css_data['bias'], \n",
    "#                                          'p_th_fss': css_data['threshold'],\n",
    "#                                          'p_th_fss_left': css_data['threshold'] - css_data['threshold_error'],\n",
    "#                                          'p_th_fss_right': css_data['threshold'] + css_data['threshold_error']})"
   ]
  },
  {
   "cell_type": "markdown",
   "id": "cec7d7ec-80e6-4ae9-92dc-f772c799dcd1",
   "metadata": {},
   "source": [
    "### Plot"
   ]
  },
  {
   "cell_type": "code",
   "execution_count": null,
   "id": "c321eee3-d7f7-4d27-8326-ec6117fb7aaa",
   "metadata": {},
   "outputs": [],
   "source": [
    "cmap = plt.cm.get_cmap('tab10')\n",
    "thresholds_df_list = [thresholds_df['det_unrot_bposd_xzzx_zbias'], \n",
    "                      thresholds_df['det_unrot_bposd_undef_zbias'], \n",
    "                      thresholds_df['det_rhombic_bposd_xzzx_xbias'], \n",
    "                      thresholds_df['det_rhombic_bposd_undef_xbias']]\n",
    "plot_combined_threshold_vs_bias(plt, Line2D, thresholds_df_list,\n",
    "                                hashing=True,\n",
    "                                eta_keys=['eta_z', 'eta_z', 'eta_x', 'eta_x', 'eta_z'], \n",
    "                                labels=['XZ4X', 'Cubic CSS', 'Rhombic deformed', 'Rhombic CSS'],\n",
    "                                colors=[cmap(3), cmap(3), cmap(0), cmap(0), cmap(1)],\n",
    "                                alphas=[1, 1, 1, 1, 1],\n",
    "                                markers=['v', 's', 'o', 'x', '^'],\n",
    "                                linestyles=['-', '--', '-', '--', '-'],\n",
    "                                depolarizing_labels=[True, False, True, False, True])"
   ]
  }
 ],
 "metadata": {
  "kernelspec": {
   "display_name": "Python 3",
   "language": "python",
   "name": "python3"
  },
  "language_info": {
   "codemirror_mode": {
    "name": "ipython",
    "version": 3
   },
   "file_extension": ".py",
   "mimetype": "text/x-python",
   "name": "python",
   "nbconvert_exporter": "python",
   "pygments_lexer": "ipython3",
   "version": "3.8.10"
  }
 },
 "nbformat": 4,
 "nbformat_minor": 5
}
