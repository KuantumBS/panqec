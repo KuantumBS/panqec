{
 "cells": [
  {
   "cell_type": "markdown",
   "id": "1bdd764b-1a47-4fb2-9a1a-91192c92e913",
   "metadata": {},
   "source": [
    "# Demonstration of Finite-Size Scaling"
   ]
  },
  {
   "cell_type": "code",
   "execution_count": null,
   "id": "c1d5baa7-1eed-42ae-ae18-f3931bab1222",
   "metadata": {},
   "outputs": [],
   "source": [
    "import pandas as pd\n",
    "import matplotlib.pyplot as plt\n",
    "from bn3d.analysis import get_thresholds_df\n",
    "from bn3d.plots._threshold import (\n",
    "    plot_data_collapse, plot_threshold_fss\n",
    ")"
   ]
  },
  {
   "cell_type": "code",
   "execution_count": null,
   "id": "d1326da6-107e-40a2-a7fb-bd8aec0d2dd2",
   "metadata": {},
   "outputs": [],
   "source": [
    "# Read in the example data for demonstration purposes.\n",
    "results_df = pd.read_json('02-eh-finite_size_scaling_data.json')\n",
    "\n",
    "# Convert certain columns to tuples.\n",
    "for column in ['size', 'noise_direction', 'n_k_d']:\n",
    "    results_df[column] = results_df[column].apply(tuple)"
   ]
  },
  {
   "cell_type": "code",
   "execution_count": null,
   "id": "81c600ab-d6fa-40f9-846d-d092f8ee0f63",
   "metadata": {},
   "outputs": [],
   "source": [
    "# The results DataFrame is a table of results for each simulation,\n",
    "# listing the names and parameters, as well as the results.\n",
    "results_df"
   ]
  },
  {
   "cell_type": "code",
   "execution_count": null,
   "id": "92639b6d-aa0f-4341-945f-910366c285f6",
   "metadata": {},
   "outputs": [],
   "source": [
    "# Do finite-size scaling calculations for the results.\n",
    "# It returns a table of thresholds for each error model,\n",
    "# a truncated list of results and\n",
    "# a list containing bootstrap-resampled parameters for each error model.\n",
    "thresholds_df, trunc_results_df, params_bs_list = get_thresholds_df(results_df)"
   ]
  },
  {
   "cell_type": "code",
   "execution_count": null,
   "id": "1d6711cb-df80-4757-8059-9c11900b76a8",
   "metadata": {},
   "outputs": [],
   "source": [
    "# Table of thresholds for each error model.\n",
    "thresholds_df"
   ]
  },
  {
   "cell_type": "code",
   "execution_count": null,
   "id": "4f69e84f-e718-41db-b287-198da8612dae",
   "metadata": {},
   "outputs": [],
   "source": [
    "# Truncated results DataFrame.\n",
    "# During the finite-size scaling process,\n",
    "# the data too far away from the critical point is thrown away,\n",
    "# leaving only those points in this table.\n",
    "trunc_results_df"
   ]
  },
  {
   "cell_type": "code",
   "execution_count": null,
   "id": "93c1218f-33b8-427f-a131-5ba9073ecfca",
   "metadata": {
    "tags": []
   },
   "outputs": [],
   "source": [
    "# A list of bootstrap-resampled parameters for each error model.\n",
    "params_bs_list"
   ]
  },
  {
   "cell_type": "code",
   "execution_count": null,
   "id": "85571cb4-1a28-490e-bda2-3fd313fa7b3f",
   "metadata": {},
   "outputs": [],
   "source": [
    "# Plot results for this error model.\n",
    "# You can change this to make plots for another error model.\n",
    "error_model = 'Pauli X0.0Y0.0Z1.0'"
   ]
  },
  {
   "cell_type": "code",
   "execution_count": null,
   "id": "c09f8eda-81b8-46f2-a545-10c7efdda945",
   "metadata": {},
   "outputs": [],
   "source": [
    "# Find the row in the thresholds DataFrame for the error model.\n",
    "row = thresholds_df[thresholds_df['error_model'] == error_model].iloc[0]\n",
    "row"
   ]
  },
  {
   "cell_type": "code",
   "execution_count": null,
   "id": "b18920f7-d85b-4092-bbe6-6e1eef4480f5",
   "metadata": {},
   "outputs": [],
   "source": [
    "# Plot the threshold and only plot the truncated data points used.\n",
    "plot_threshold_fss(\n",
    "    plt,\n",
    "    trunc_results_df[trunc_results_df['error_model'] == error_model],\n",
    "    row['p_th_fss'],\n",
    "    row['p_th_fss_left'],\n",
    "    row['p_th_fss_right'],\n",
    "    row['p_th_fss_se']\n",
    ")"
   ]
  },
  {
   "cell_type": "code",
   "execution_count": null,
   "id": "57befb50-09bf-48cd-8265-617d2a310bd4",
   "metadata": {},
   "outputs": [],
   "source": [
    "# Plot the data collapse, again only plotting the used data points.\n",
    "plot_data_collapse(\n",
    "    plt,\n",
    "    trunc_results_df[trunc_results_df['error_model'] == error_model],\n",
    "    row['fss_params'],\n",
    "    params_bs_list[row.name]\n",
    ")"
   ]
  },
  {
   "cell_type": "code",
   "execution_count": null,
   "id": "bfbe57e6-d498-4700-a4fb-240d518bdaad",
   "metadata": {},
   "outputs": [],
   "source": []
  }
 ],
 "metadata": {
  "kernelspec": {
   "display_name": "Python 3",
   "language": "python",
   "name": "python3"
  },
  "language_info": {
   "codemirror_mode": {
    "name": "ipython",
    "version": 3
   },
   "file_extension": ".py",
   "mimetype": "text/x-python",
   "name": "python",
   "nbconvert_exporter": "python",
   "pygments_lexer": "ipython3",
   "version": "3.8.0"
  }
 },
 "nbformat": 4,
 "nbformat_minor": 5
}
