{
 "cells": [
  {
   "cell_type": "markdown",
   "id": "choice-proportion",
   "metadata": {},
   "source": [
    "# 3D Toric Code Point Sector Decoding for Unbiased Noise"
   ]
  },
  {
   "cell_type": "code",
   "execution_count": null,
   "id": "b0776a00-1153-4eec-8049-f11284d3b761",
   "metadata": {},
   "outputs": [],
   "source": [
    "%load_ext autoreload\n",
    "%autoreload 2"
   ]
  },
  {
   "cell_type": "code",
   "execution_count": null,
   "id": "89881fe5-19b6-4e12-a7a1-08cf40938634",
   "metadata": {},
   "outputs": [],
   "source": [
    "import numpy as np\n",
    "import matplotlib.pyplot as plt\n",
    "from pymatching import Matching\n",
    "import os\n",
    "from bn3d.bpauli import get_effective_error\n",
    "from bn3d.app import (\n",
    "    read_input_dict\n",
    ")\n",
    "from bn3d.io import (\n",
    "    serialize_results, dump_results\n",
    ")\n",
    "from tqdm.notebook import tqdm\n",
    "from bn3d.plots import plot_export_json\n",
    "import IPython.display\n",
    "import datetime\n",
    "from bn3d.config import BN3D_DIR, BN3D_DARK_THEME\n",
    "if BN3D_DARK_THEME:\n",
    "    plt.style.use('dark_background')\n",
    "\n",
    "import pandas as pd"
   ]
  },
  {
   "cell_type": "code",
   "execution_count": null,
   "id": "listed-pressing",
   "metadata": {},
   "outputs": [],
   "source": [
    "# Parameters\n",
    "# Change these as you wish.\n",
    "\n",
    "input_data = {\n",
    "    'comments': 'Simple Demonstartion',\n",
    "    'ranges': {\n",
    "        'label': 'demo_00',\n",
    "        'code': {\n",
    "            'model': 'ToricCode3D',\n",
    "            'parameters': [\n",
    "                [4, 4, 4],\n",
    "                [6, 6, 6],\n",
    "                [9, 9, 9],\n",
    "            ],\n",
    "        },\n",
    "        'noise': {\n",
    "            'model': 'PauliErrorModel',\n",
    "            'parameters': [\n",
    "                [1, 0, 0]\n",
    "            ],\n",
    "        },\n",
    "        'decoder': {\n",
    "            'model': 'SweepMatchDecoder'\n",
    "        },\n",
    "        'probability': np.arange(0.01, 0.06, 0.005).round(5).tolist(),\n",
    "        'trials': 10,\n",
    "    }\n",
    "}\n",
    "\n",
    "# Frequecy of plot update.\n",
    "plot_frequency = 5\n",
    "\n",
    "# Frequency of saving to file.\n",
    "save_frequency = 20"
   ]
  },
  {
   "cell_type": "code",
   "execution_count": null,
   "id": "7fb170cb-ce4c-4dce-a118-480605346824",
   "metadata": {},
   "outputs": [],
   "source": [
    "batch_sim = read_input_dict(\n",
    "    input_data,\n",
    "    update_frequency=plot_frequency,\n",
    "    save_frequency=save_frequency\n",
    ")"
   ]
  },
  {
   "cell_type": "code",
   "execution_count": null,
   "id": "30ab6588-ac6d-4479-9b07-ba7a83458826",
   "metadata": {},
   "outputs": [],
   "source": [
    "def update_plot():\n",
    "    df = pd.DataFrame(batch_sim.get_results())\n",
    "    df['p_est'] = df['n_fail']/df['n_trials']\n",
    "    df['p_err'] = np.sqrt(df['p_est']*(1 - df['p_est'])/(df['n_trials'] + 1))\n",
    "\n",
    "    plt.clf()\n",
    "    for code_size in df['size'].unique():\n",
    "        df_filtered = df[df['size'] == code_size]\n",
    "        plt.errorbar(\n",
    "            df_filtered['probability'], df_filtered['p_est'],\n",
    "            yerr=df_filtered['p_err'],\n",
    "            label=f'L={code_size[0]}'\n",
    "        )\n",
    "    plt.xlabel('Physical Error Rate', fontsize=20)\n",
    "    plt.ylabel('Logical Error Rate', fontsize=20)\n",
    "    plt.legend()\n",
    "    IPython.display.clear_output(wait=True)\n",
    "    IPython.display.display(plt.gcf())"
   ]
  },
  {
   "cell_type": "code",
   "execution_count": null,
   "id": "c9062cf4-33bb-4b2d-91a4-d6eea898d547",
   "metadata": {},
   "outputs": [],
   "source": [
    "batch_sim.on_update = update_plot"
   ]
  },
  {
   "cell_type": "code",
   "execution_count": null,
   "id": "1dc3473c-d746-4b5b-b812-b70e03fef0f9",
   "metadata": {},
   "outputs": [],
   "source": [
    "batch_sim.run(400, progress=tqdm)"
   ]
  }
 ],
 "metadata": {
  "kernelspec": {
   "display_name": "Python 3",
   "language": "python",
   "name": "python3"
  },
  "language_info": {
   "codemirror_mode": {
    "name": "ipython",
    "version": 3
   },
   "file_extension": ".py",
   "mimetype": "text/x-python",
   "name": "python",
   "nbconvert_exporter": "python",
   "pygments_lexer": "ipython3",
   "version": "3.8.0"
  }
 },
 "nbformat": 4,
 "nbformat_minor": 5
}
