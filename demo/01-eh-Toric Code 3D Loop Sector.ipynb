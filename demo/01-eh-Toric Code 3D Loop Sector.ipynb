{
 "cells": [
  {
   "cell_type": "markdown",
   "metadata": {},
   "source": [
    "# 3D Toric Code Sweep Decoder"
   ]
  },
  {
   "cell_type": "code",
   "execution_count": null,
   "metadata": {},
   "outputs": [],
   "source": [
    "%load_ext autoreload\n",
    "%autoreload 2"
   ]
  },
  {
   "cell_type": "code",
   "execution_count": null,
   "metadata": {},
   "outputs": [],
   "source": [
    "import numpy as np\n",
    "import matplotlib.pyplot as plt\n",
    "from pymatching import Matching\n",
    "import os\n",
    "from bn3d.bpauli import get_effective_error\n",
    "from bn3d.app import (\n",
    "    read_input_dict\n",
    ")\n",
    "from bn3d.io import (\n",
    "    serialize_results, dump_results\n",
    ")\n",
    "from tqdm.notebook import tqdm\n",
    "from bn3d.plots import plot_export_json\n",
    "import IPython.display\n",
    "import datetime\n",
    "from bn3d.config import BN3D_DIR, BN3D_DARK_THEME\n",
    "if BN3D_DARK_THEME:\n",
    "    plt.style.use('dark_background')\n",
    "\n",
    "import pandas as pd"
   ]
  },
  {
   "cell_type": "code",
   "execution_count": null,
   "metadata": {},
   "outputs": [],
   "source": [
    "# Parameters\n",
    "# Change these as you wish.\n",
    "\n",
    "input_data = {\n",
    "    'comments': 'Simple Demonstration',\n",
    "    'ranges': {\n",
    "        'label': 'demo_01',\n",
    "        'code': {\n",
    "            'model': 'ToricCode3D',\n",
    "            'parameters': [\n",
    "                {'L_x': 4},\n",
    "                {'L_x': 6},\n",
    "                {'L_x': 8},\n",
    "            ]\n",
    "        },\n",
    "        'noise': {\n",
    "            'model': 'PauliErrorModel',\n",
    "            'parameters': [\n",
    "                {'r_x': 0, 'r_y': 0, 'r_z': 1}\n",
    "            ],\n",
    "        },\n",
    "        'decoder': {\n",
    "            'model': 'SweepMatchDecoder'\n",
    "        },\n",
    "        'probability': np.arange(0.1, 0.2, 0.01).round(5).tolist(),\n",
    "    }\n",
    "}\n",
    "\n",
    "# Frequecy of plot update.\n",
    "plot_frequency = 5\n",
    "\n",
    "# Frequency of saving to file.\n",
    "save_frequency = 20\n",
    "\n",
    "# Target number of simulations.\n",
    "n_trials = 1000"
   ]
  },
  {
   "cell_type": "code",
   "execution_count": null,
   "metadata": {},
   "outputs": [],
   "source": [
    "batch_sim = read_input_dict(\n",
    "    input_data,\n",
    "    update_frequency=plot_frequency,\n",
    "    save_frequency=save_frequency\n",
    ")"
   ]
  },
  {
   "cell_type": "code",
   "execution_count": null,
   "metadata": {},
   "outputs": [],
   "source": [
    "def update_plot():\n",
    "    \"\"\"Plot routine on loop.\"\"\"\n",
    "    remaining_time = batch_sim.estimate_remaining_time(n_trials)\n",
    "    df = pd.DataFrame(batch_sim.get_results())\n",
    "\n",
    "    plt.clf()\n",
    "    for code_size in df['size'].unique():\n",
    "        df_filtered = df[df['size'] == code_size]\n",
    "        plt.errorbar(\n",
    "            df_filtered['probability'], df_filtered['p_est'],\n",
    "            yerr=df_filtered['p_se'],\n",
    "            label=f'L={code_size[0]}'\n",
    "        )\n",
    "    plt.title(f'Time remaining {datetime.timedelta(seconds=int(remaining_time))}')\n",
    "    plt.xlabel('Physical Error Rate', fontsize=20)\n",
    "    plt.ylabel('Logical Error Rate', fontsize=20)\n",
    "    plt.legend()\n",
    "    IPython.display.clear_output(wait=True)\n",
    "    IPython.display.display(plt.gcf())\n",
    "\n",
    "batch_sim.on_update = update_plot"
   ]
  },
  {
   "cell_type": "code",
   "execution_count": null,
   "metadata": {},
   "outputs": [],
   "source": [
    "batch_sim._run(n_trials, progress=tqdm)"
   ]
  },
  {
   "cell_type": "code",
   "execution_count": null,
   "metadata": {},
   "outputs": [],
   "source": []
  }
 ],
 "metadata": {
  "kernelspec": {
   "display_name": "Python 3",
   "language": "python",
   "name": "python3"
  },
  "language_info": {
   "codemirror_mode": {
    "name": "ipython",
    "version": 3
   },
   "file_extension": ".py",
   "mimetype": "text/x-python",
   "name": "python",
   "nbconvert_exporter": "python",
   "pygments_lexer": "ipython3",
   "version": "3.7.7"
  }
 },
 "nbformat": 4,
 "nbformat_minor": 5
}
