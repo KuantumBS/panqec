{
 "cells": [
  {
   "cell_type": "code",
   "execution_count": null,
   "id": "73a05699-c24e-4c43-8062-00c66129e353",
   "metadata": {},
   "outputs": [],
   "source": [
    "import bn3d\n",
    "import numpy as np\n",
    "import matplotlib.pyplot as plt\n",
    "from tqdm.notebook import tqdm\n",
    "import hashlib\n",
    "import json\n",
    "import binascii\n",
    "from bn3d.utils import NumpyEncoder, hash_json\n",
    "from bn3d.statmech.rbim2d import (\n",
    "    RandomBondIsingModel2D, Magnetization,\n",
    "    Rbim2DIidDisorder\n",
    ")\n",
    "from bn3d.statmech.controllers import SimpleController\n",
    "from bn3d.statmech.analysis import SimpleAnalysis, load_analysis\n",
    "import uuid\n",
    "import pandas as pd\n",
    "import cProfile\n",
    "from pstats import Stats\n",
    "import os\n",
    "import psutil\n",
    "from itertools import product"
   ]
  },
  {
   "cell_type": "markdown",
   "id": "2bd5c599-c740-452e-8e67-da6c368f26dd",
   "metadata": {},
   "source": [
    "## Load data"
   ]
  },
  {
   "cell_type": "code",
   "execution_count": null,
   "id": "18782804-270c-4192-b679-801cc8335289",
   "metadata": {},
   "outputs": [],
   "source": [
    "data_dir = '../temp/statmech/test_7/'"
   ]
  },
  {
   "cell_type": "code",
   "execution_count": null,
   "id": "c8b41294-f2c3-4230-b6f5-fab33a45d126",
   "metadata": {},
   "outputs": [],
   "source": [
    "analysis = load_analysis(data_dir)"
   ]
  },
  {
   "cell_type": "code",
   "execution_count": null,
   "id": "e00e55e2-7a71-4c81-83f3-780bb124d960",
   "metadata": {
    "tags": []
   },
   "outputs": [],
   "source": [
    "estimates = analysis.estimates"
   ]
  },
  {
   "cell_type": "code",
   "execution_count": null,
   "id": "da460e07-caaf-4458-942d-fe6824b8b1ef",
   "metadata": {},
   "outputs": [],
   "source": [
    "max_tau = estimates['tau'].max()"
   ]
  },
  {
   "cell_type": "markdown",
   "id": "b74d54fc-6d2d-4d90-9c54-f27463035237",
   "metadata": {},
   "source": [
    "## Plot single observable"
   ]
  },
  {
   "cell_type": "code",
   "execution_count": null,
   "id": "7f14a4fb-89f3-4b78-90eb-2d02b8fe214a",
   "metadata": {},
   "outputs": [],
   "source": [
    "label = 'CorrelationRatio'\n",
    "for p_val in estimates['p'].unique():\n",
    "    for L_x_val in estimates['L_x'].unique():\n",
    "        estimates_filt = estimates[\n",
    "            (estimates['p'] == p_val)\n",
    "            & (estimates['tau'] == max_tau)\n",
    "            & (estimates['L_x'] == L_x_val)\n",
    "        ][['temperature', f'{label}_estimate', f'{label}_uncertainty']]\n",
    "        y_values = np.real(estimates_filt[f'{label}_estimate'])\n",
    "        y_values[y_values == 0] = np.nan\n",
    "        y_err = np.real(estimates_filt[f'{label}_uncertainty'])\n",
    "        plt.errorbar(\n",
    "            estimates_filt['temperature'],\n",
    "            y_values,\n",
    "            yerr=y_err,\n",
    "            fmt='o-',\n",
    "            capsize=5,\n",
    "            label=f'L = {L_x_val}'\n",
    "        )\n",
    "    plt.ylabel(r'Correlation Ratio $\\xi/L$')\n",
    "    plt.xlabel('Temperature $T$')\n",
    "    plt.title(f'p = {p_val}')\n",
    "    plt.yscale('log')\n",
    "    plt.legend()\n",
    "    plt.show()"
   ]
  },
  {
   "cell_type": "markdown",
   "id": "a7cbb238-a27d-4e6d-81a7-f17417acf625",
   "metadata": {},
   "source": [
    "## Plot multiple observable"
   ]
  },
  {
   "cell_type": "code",
   "execution_count": null,
   "id": "58512b43-5781-4ba2-b0b8-9627e61f59a9",
   "metadata": {},
   "outputs": [],
   "source": [
    "observable_list = [\n",
    "    'Energy', 'SpecificHeat', 'Magnetization', 'Magnetization_2',\n",
    "    'Susceptibility0', 'Susceptibilitykmin', 'CorrelationRatio',\n",
    "    'Binder'\n",
    "]\n",
    "for label in observable_list:\n",
    "    for p_val in estimates['p'].unique():\n",
    "        for L_x_val in estimates['L_x'].unique():\n",
    "            estimates_filt = estimates[\n",
    "                (estimates['p'] == p_val)\n",
    "                & (estimates['tau'] == max_tau)\n",
    "                & (estimates['L_x'] == L_x_val)\n",
    "            ][['temperature', f'{label}_estimate', f'{label}_uncertainty']]\n",
    "            # display(estimates_filt[['temperature']])\n",
    "            y_values = np.real(estimates_filt[f'{label}_estimate'])\n",
    "            y_values[y_values == 0] = np.nan\n",
    "            y_err = np.real(estimates_filt[f'{label}_uncertainty'])\n",
    "            plt.errorbar(\n",
    "                estimates_filt['temperature'],\n",
    "                y_values,\n",
    "                yerr=y_err,\n",
    "                fmt='o-',\n",
    "                capsize=5,\n",
    "                label=f'L = {L_x_val}'\n",
    "            )\n",
    "        plt.ylabel(label)\n",
    "        plt.xlabel('temperature')\n",
    "        plt.title(f'p = {p_val}')\n",
    "        plt.legend()\n",
    "        plt.show()"
   ]
  },
  {
   "cell_type": "markdown",
   "id": "adbbbceb-7dfb-42b0-97ef-32e1fbae31a6",
   "metadata": {},
   "source": [
    "## Plot Wilson loops"
   ]
  },
  {
   "cell_type": "code",
   "execution_count": null,
   "id": "588422ec-65f5-4524-820b-505913d2174c",
   "metadata": {},
   "outputs": [],
   "source": [
    "p_val = estimates['p'].unique()[0]\n",
    "L_x_val = 10\n",
    "\n",
    "\n",
    "wilson_loops = {}\n",
    "for T_val in estimates['temperature'].unique():\n",
    "    filt_estimates = estimates[(estimates['p'] == p_val) & \n",
    "                               (estimates['tau'] == max_tau) &\n",
    "                               (estimates['L_x'] == L_x_val) &\n",
    "                               (estimates['temperature'] == T_val)]\n",
    "    wilson_loops[T_val] = filt_estimates['Wilson Loop_estimate'].to_numpy()[0]\n",
    "    \n",
    "n_wilson_loops = len(list(wilson_loops.values())[0])"
   ]
  },
  {
   "cell_type": "code",
   "execution_count": null,
   "id": "12ad0461-d7ec-4eaa-8d51-83724c61a95c",
   "metadata": {},
   "outputs": [],
   "source": [
    "plt.rcParams['figure.figsize'] = (7, 5)\n",
    "plt.rcParams['font.size'] = 15\n",
    "\n",
    "eps = 1e-5\n",
    "for i, p_val in enumerate(estimates['p'].unique()):\n",
    "    plt.subplot(len(estimates['p'].unique()), 1, i+1)\n",
    "    for T_val in estimates['temperature'].unique():\n",
    "        filt_estimates = estimates[(estimates['p'] == p_val) & \n",
    "                                   (estimates['tau'] == max_tau) &\n",
    "                                   (estimates['L_x'] == L_x_val) &\n",
    "                                   (estimates['temperature'] == T_val)]\n",
    "        wilson_loops = filt_estimates['Wilson Loop_estimate'].to_numpy()[0]\n",
    "        n_wilson_loops = len(wilson_loops)\n",
    "        \n",
    "        areas = np.arange(2, n_wilson_loops+1)**2\n",
    "        perimeters = 4 * (np.arange(2, n_wilson_loops+1) - 1)\n",
    "\n",
    "        log_wl = -np.log((1+wilson_loops[1:])/2+eps) / perimeters\n",
    "\n",
    "        plt.plot(perimeters, log_wl, 'o-', label=f'T={T_val}');\n",
    "\n",
    "    plt.title(f'p={p_val}')\n",
    "    plt.ylabel(\"$-\\log(WL) / P$\")\n",
    "    plt.xlabel(\"Perimeter\")\n",
    "    plt.xticks(perimeters)\n",
    "    plt.legend()"
   ]
  },
  {
   "cell_type": "code",
   "execution_count": null,
   "id": "e05fe171-d06b-4607-a946-9042968186b4",
   "metadata": {},
   "outputs": [],
   "source": []
  }
 ],
 "metadata": {
  "kernelspec": {
   "display_name": "Python 3",
   "language": "python",
   "name": "python3"
  },
  "language_info": {
   "codemirror_mode": {
    "name": "ipython",
    "version": 3
   },
   "file_extension": ".py",
   "mimetype": "text/x-python",
   "name": "python",
   "nbconvert_exporter": "python",
   "pygments_lexer": "ipython3",
   "version": "3.8.0"
  }
 },
 "nbformat": 4,
 "nbformat_minor": 5
}
