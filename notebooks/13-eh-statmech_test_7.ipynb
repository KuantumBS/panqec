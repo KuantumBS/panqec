{
 "cells": [
  {
   "cell_type": "code",
   "execution_count": null,
   "id": "73a05699-c24e-4c43-8062-00c66129e353",
   "metadata": {},
   "outputs": [],
   "source": [
    "import bn3d\n",
    "import numpy as np\n",
    "import matplotlib.pyplot as plt\n",
    "from tqdm.notebook import tqdm\n",
    "import hashlib\n",
    "import json\n",
    "import binascii\n",
    "from bn3d.utils import NumpyEncoder, hash_json\n",
    "from bn3d.statmech.rbim2d import (\n",
    "    RandomBondIsingModel2D, Magnetization,\n",
    "    Rbim2DIidDisorder\n",
    ")\n",
    "from bn3d.statmech.controllers import SimpleController\n",
    "from bn3d.statmech.analysis import SimpleAnalysis, load_analysis\n",
    "import uuid\n",
    "import pandas as pd\n",
    "import cProfile\n",
    "from pstats import Stats\n",
    "import os\n",
    "import psutil\n",
    "from itertools import product"
   ]
  },
  {
   "cell_type": "code",
   "execution_count": null,
   "id": "18782804-270c-4192-b679-801cc8335289",
   "metadata": {},
   "outputs": [],
   "source": [
    "data_dir = '../temp/statmech/test_7/'"
   ]
  },
  {
   "cell_type": "code",
   "execution_count": null,
   "id": "cdf23eef-3dec-4c23-a346-3dcd0fb847df",
   "metadata": {},
   "outputs": [],
   "source": [
    "os.listdir(data_dir)"
   ]
  },
  {
   "cell_type": "code",
   "execution_count": null,
   "id": "c8b41294-f2c3-4230-b6f5-fab33a45d126",
   "metadata": {},
   "outputs": [],
   "source": [
    "analysis = load_analysis(data_dir)\n",
    "analysis.estimate_binder()"
   ]
  },
  {
   "cell_type": "code",
   "execution_count": null,
   "id": "e00e55e2-7a71-4c81-83f3-780bb124d960",
   "metadata": {
    "tags": []
   },
   "outputs": [],
   "source": [
    "estimates = analysis.estimates"
   ]
  },
  {
   "cell_type": "code",
   "execution_count": null,
   "id": "450ae72e-6104-4968-8333-05c6c27198df",
   "metadata": {},
   "outputs": [],
   "source": [
    "analysis.results_df"
   ]
  },
  {
   "cell_type": "code",
   "execution_count": null,
   "id": "4455f92a-82ab-473f-a428-2d0d6c24759f",
   "metadata": {},
   "outputs": [],
   "source": [
    "estimates"
   ]
  },
  {
   "cell_type": "code",
   "execution_count": null,
   "id": "7f14a4fb-89f3-4b78-90eb-2d02b8fe214a",
   "metadata": {},
   "outputs": [],
   "source": [
    "max_tau = 11\n",
    "label = 'CorrelationLength'\n",
    "for p_val in estimates['p'].unique():\n",
    "    for L_x_val in estimates['L_x'].unique():\n",
    "        estimates_filt = estimates[\n",
    "            (estimates['p'] == p_val)\n",
    "            & (estimates['tau'] == max_tau)\n",
    "            & (estimates['L_x'] == L_x_val)\n",
    "        ][['temperature', f'{label}_estimate', f'{label}_uncertainty']]\n",
    "        y_values = np.real(estimates_filt[f'{label}_estimate'])\n",
    "        y_values[y_values == 0] = np.nan\n",
    "        y_err = np.real(estimates_filt[f'{label}_uncertainty'])\n",
    "        plt.errorbar(\n",
    "            estimates_filt['temperature'],\n",
    "            y_values/L_x_val,\n",
    "            yerr=y_err/L_x_val,\n",
    "            fmt='o-',\n",
    "            capsize=5,\n",
    "            label=f'L = {L_x_val}'\n",
    "        )\n",
    "    plt.ylabel('CorrelationLength/L')\n",
    "    plt.xlabel('temperature')\n",
    "    plt.title(f'p = {p_val}')\n",
    "    plt.yscale('log')\n",
    "    plt.legend()\n",
    "    plt.show()"
   ]
  },
  {
   "cell_type": "code",
   "execution_count": null,
   "id": "18f5fa2e-1eab-46dc-9ba1-e6b43c03b755",
   "metadata": {},
   "outputs": [],
   "source": [
    "max_tau = 11\n",
    "for label in ['Magnetization', 'Magnetization_2', 'Susceptibility0', 'Susceptibilitykmin', 'CorrelationLength', 'Binder']:\n",
    "    for p_val in estimates['p'].unique():\n",
    "        for L_x_val in estimates['L_x'].unique():\n",
    "            estimates_filt = estimates[\n",
    "                (estimates['p'] == p_val)\n",
    "                & (estimates['tau'] == max_tau)\n",
    "                & (estimates['L_x'] == L_x_val)\n",
    "            ][['temperature', f'{label}_estimate', f'{label}_uncertainty']]\n",
    "            # display(estimates_filt[['temperature']])\n",
    "            y_values = np.real(estimates_filt[f'{label}_estimate'])\n",
    "            y_values[y_values == 0] = np.nan\n",
    "            y_err = np.real(estimates_filt[f'{label}_uncertainty'])\n",
    "            plt.errorbar(\n",
    "                estimates_filt['temperature'],\n",
    "                y_values,\n",
    "                yerr=y_err,\n",
    "                fmt='o-',\n",
    "                capsize=5,\n",
    "                label=f'L = {L_x_val}'\n",
    "            )\n",
    "        plt.ylabel(label)\n",
    "        plt.xlabel('temperature')\n",
    "        plt.title(f'p = {p_val}')\n",
    "        plt.legend()\n",
    "        plt.show()"
   ]
  },
  {
   "cell_type": "code",
   "execution_count": null,
   "id": "d2a8673e-3a25-43d4-a9af-3fdb9ccd4a26",
   "metadata": {},
   "outputs": [],
   "source": []
  }
 ],
 "metadata": {
  "kernelspec": {
   "display_name": "Python 3",
   "language": "python",
   "name": "python3"
  },
  "language_info": {
   "codemirror_mode": {
    "name": "ipython",
    "version": 3
   },
   "file_extension": ".py",
   "mimetype": "text/x-python",
   "name": "python",
   "nbconvert_exporter": "python",
   "pygments_lexer": "ipython3",
   "version": "3.8.0"
  }
 },
 "nbformat": 4,
 "nbformat_minor": 5
}
