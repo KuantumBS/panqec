{
 "cells": [
  {
   "cell_type": "markdown",
   "id": "002545f1-d210-4b76-8856-67d8626a871a",
   "metadata": {},
   "source": [
    "# PanQEC basics\n",
    "\n",
    "In this tutorial, we will learn how the library is structure and what we can do with it."
   ]
  },
  {
   "cell_type": "markdown",
   "id": "68615ab6-2701-4312-8746-b7ae4fdb3548",
   "metadata": {},
   "source": [
    "## Codes, noise models and decoders"
   ]
  },
  {
   "cell_type": "markdown",
   "id": "efc3bb7f-0557-407d-8293-eee51d3c4878",
   "metadata": {},
   "source": [
    "PanQEC is made of three main ingredients: the codes, the noise models and the decoders. Let's take a look at an example of how those components can interact."
   ]
  },
  {
   "cell_type": "code",
   "execution_count": 1,
   "id": "78549907",
   "metadata": {},
   "outputs": [],
   "source": [
    "from panqec.codes import Toric2DCode\n",
    "from panqec.error_models import PauliErrorModel\n",
    "from panqec.decoders import Toric2DPymatchingDecoder\n",
    "\n",
    "%load_ext autoreload\n",
    "%autoreload 2"
   ]
  },
  {
   "cell_type": "markdown",
   "id": "8a2e20e4",
   "metadata": {},
   "source": [
    "Let's start by instantiating the following elements:\n",
    "1. A 2D toric code of lattice size $L=4$\n",
    "2. A Pauli error model where 20% of errors are Pauli $X$ errors, 30% are Pauli $Y$, and 50% Pauli $Z$, and the total probability of error is $p=0.1$\n",
    "3. A minimum-weight perfect matching decoder based on the library [PyMatching](pymatching.readthedocs.io)"
   ]
  },
  {
   "cell_type": "code",
   "execution_count": 2,
   "id": "144e1aca",
   "metadata": {},
   "outputs": [],
   "source": [
    "code = Toric2DCode(4)\n",
    "\n",
    "error_model = PauliErrorModel(0.2, 0.3, 0.5)\n",
    "p = 0.1\n",
    "\n",
    "decoder = Toric2DPymatchingDecoder(error_model, p)"
   ]
  },
  {
   "cell_type": "markdown",
   "id": "bbe81bc2",
   "metadata": {},
   "source": [
    "We can then use the error model to generate some errors, from which we can extract a syndrome"
   ]
  },
  {
   "cell_type": "code",
   "execution_count": 14,
   "id": "6d75915b",
   "metadata": {},
   "outputs": [
    {
     "name": "stdout",
     "output_type": "stream",
     "text": [
      "Errors:  [0 0 0 0 0 0 0 0 0 0 0 0 1 0 0 0 0 0 0 0 0 0 0 0 0 1 0 0 0 0 0 1 0 0 1 0 0\n",
      " 0 0 0 0 1 0 0 1 0 0 0 0 0 0 1 0 0 0 0 1 1 0 0 1 0 0 1]\n",
      "Syndrome:  [1 0 0 0 0 0 0 0 0 1 1 0 0 0 0 1 0 1 1 1 1 1 0 0 1 0 0 1 0 0 0 1]\n"
     ]
    }
   ],
   "source": [
    "errors = error_model.generate(code, p)\n",
    "syndrome = code.measure_syndrome(errors)\n",
    "\n",
    "print(\"Errors: \", errors)\n",
    "print(\"Syndrome: \", syndrome)"
   ]
  },
  {
   "cell_type": "markdown",
   "id": "4e5a3617",
   "metadata": {},
   "source": [
    "And finally we can decode the syndrome using our matching decoder, and check the decoding succeeded"
   ]
  },
  {
   "cell_type": "code",
   "execution_count": 18,
   "id": "3c524d74",
   "metadata": {},
   "outputs": [
    {
     "name": "stdout",
     "output_type": "stream",
     "text": [
      "Correction:  [0 0 0 0 0 0 0 0 0 0 0 0 1 0 0 0 0 0 0 0 0 0 0 0 0 1 0 0 0 0 0 1 0 0 0 1 0\n",
      " 0 0 0 0 0 0 0 0 0 0 0 0 0 0 0 0 1 0 0 1 0 0 0 0 0 0 1]\n",
      "Residual error:  [0 0 0 0 0 0 0 0 0 0 0 0 0 0 0 0 0 0 0 0 0 0 0 0 0 0 0 0 0 0 0 0 0 0 1 1 0\n",
      " 0 0 0 0 1 0 0 1 0 0 0 0 0 0 1 0 1 0 0 0 1 0 0 1 0 0 0]\n",
      "Is in codespace:  True\n",
      "Logical errors:  [0 0 1 1]\n",
      "Success:  False\n"
     ]
    }
   ],
   "source": [
    "# Obtain the correction by decoding the syndrome\n",
    "correction = decoder.decode(code, syndrome)\n",
    "print(\"Correction: \", correction)\n",
    "\n",
    "# Get the remaining error once the correction has been applied\n",
    "residual_error = (correction + errors) % 2\n",
    "print(\"Residual error: \", residual_error)\n",
    "\n",
    "# Check whether the residual error is in the codespace \n",
    "# (i.e. whether there is any remaining excitation)\n",
    "in_codespace = code.in_codespace(residual_error)\n",
    "print(\"Is in codespace: \", in_codespace)\n",
    "\n",
    "# Get the logical errors\n",
    "logical_errors = code.logical_errors(residual_error)\n",
    "print(\"Logical errors: \", logical_errors)\n",
    "\n",
    "# Check whether the decoding succeeded\n",
    "success = not code.is_logical_error(residual_error) and in_codespace\n",
    "print(\"Success: \", success)"
   ]
  }
 ],
 "metadata": {
  "kernelspec": {
   "display_name": "Python 3",
   "language": "python",
   "name": "python3"
  },
  "language_info": {
   "codemirror_mode": {
    "name": "ipython",
    "version": 3
   },
   "file_extension": ".py",
   "mimetype": "text/x-python",
   "name": "python",
   "nbconvert_exporter": "python",
   "pygments_lexer": "ipython3",
   "version": "3.8.13"
  }
 },
 "nbformat": 4,
 "nbformat_minor": 5
}
